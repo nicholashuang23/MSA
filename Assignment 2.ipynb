{
 "cells": [
  {
   "cell_type": "code",
   "execution_count": 1,
   "source": [
    "import numpy as np\n",
    "import pandas as pd\n",
    "import scipy\n",
    "from sklearn.feature_selection import SelectKBest, chi2, f_classif\n",
    "from sklearn.decomposition import PCA\n",
    "from sklearn.tree import DecisionTreeClassifier\n",
    "from sklearn.naive_bayes import GaussianNB\n",
    "from sklearn.ensemble import RandomForestClassifier\n",
    "from sklearn.metrics import accuracy_score, precision_score, recall_score, f1_score\n",
    "from sklearn.metrics import classification_report\n",
    "\n",
    "# Opening the files and removing the labels as well as the columns with strings in them\n",
    "x_train_original = pd.read_csv(r\"recipe_train.csv\", index_col = False, delimiter = ',', header=0)\n",
    "X_test_original = pd.read_csv(r\"recipe_test.csv\", index_col = False, delimiter = ',', header=0)\n",
    "\n",
    "y_train = x_train_original['duration_label']\n",
    "X_train = x_train_original.drop('duration_label', axis = 1)\n",
    "\n",
    "string_cols = ['name', 'ingredients', 'steps']\n",
    "X_train1 = X_train.drop(string_cols, axis = 1)\n",
    "X_test1 = X_test_original.drop(string_cols, axis = 1)\n",
    "\n"
   ],
   "outputs": [],
   "metadata": {}
  },
  {
   "cell_type": "code",
   "execution_count": 4,
   "source": [
    "# Sparse train matrix for name, ingredients, steps\n",
    "name_sparse_matrix = scipy.sparse.load_npz('recipe_text_features_countvec/train_name_vec.npz')\n",
    "ingredients_sparse_matrix = scipy.sparse.load_npz('recipe_text_features_countvec/train_ingr_vec.npz')\n",
    "steps_sparse_matrix = scipy.sparse.load_npz('recipe_text_features_countvec/train_steps_vec.npz')\n",
    "\n",
    "# Sparse test matrix for name, ingredients, steps\n",
    "name_test_matrix = scipy.sparse.load_npz('recipe_text_features_countvec/test_name_vec.npz')\n",
    "ingredients_test_matrix = scipy.sparse.load_npz('recipe_text_features_countvec/test_ingr_vec.npz')\n",
    "steps_test_matrix = scipy.sparse.load_npz('recipe_text_features_countvec/test_steps_vec.npz')\\\n",
    "\n",
    "#train doc2vec100 for name steps ingredients\n",
    "d2v_name_df = pd.read_csv(r\"recipe_text_features_doc2vec100/train_name_doc2vec100.csv\", index_col = False, delimiter = ',', header=None)\n",
    "d2v_ingredients_df = pd.read_csv(r\"recipe_text_features_doc2vec100/train_ingr_doc2vec100.csv\", index_col = False, delimiter = ',', header=None)\n",
    "d2v_steps_df = pd.read_csv(r\"recipe_text_features_doc2vec100/train_steps_doc2vec100.csv\", index_col = False, delimiter = ',', header=None)\n",
    "\n",
    "\n",
    "\n",
    "#test doc2vec100 for name steps ingredients\n",
    "test_d2v_name_df = pd.read_csv(r\"recipe_text_features_doc2vec100/test_name_doc2vec100.csv\", index_col = False, delimiter = ',', header=None)\n",
    "test_d2v_ingredients_df = pd.read_csv(r\"recipe_text_features_doc2vec100/test_ingr_doc2vec100.csv\", index_col = False, delimiter = ',', header=None)\n",
    "test_d2v_steps_df = pd.read_csv(r\"recipe_text_features_doc2vec100/test_steps_doc2vec100.csv\", index_col = False, delimiter = ',', header=None)"
   ],
   "outputs": [],
   "metadata": {}
  },
  {
   "cell_type": "code",
   "execution_count": 5,
   "source": [
    "# Creating Select KBest models to fit to each feature (name, ingredient, steps)\n",
    "Kbest_name = SelectKBest(f_classif, k=50)\n",
    "Kbest_ingr = SelectKBest(f_classif, k=50)\n",
    "Kbest_steps = SelectKBest(f_classif, k=50)\n",
    "\n",
    "best_name_cols = Kbest_name.fit_transform(name_sparse_matrix,y_train)\n",
    "best_ingredients_cols = Kbest_ingr.fit_transform(ingredients_sparse_matrix,y_train)\n",
    "best_steps_cols = Kbest_steps.fit_transform(steps_sparse_matrix,y_train)\n",
    "\n",
    "best_name_df = pd.DataFrame(best_name_cols.toarray())\n",
    "best_ingredients_df = pd.DataFrame(best_ingredients_cols.toarray())\n",
    "best_steps_df = pd.DataFrame(best_steps_cols.toarray())\n",
    "\n",
    "X_train2 = pd.concat([X_train1,best_name_df, best_ingredients_df, best_steps_df], axis = 1, ignore_index = True)"
   ],
   "outputs": [],
   "metadata": {}
  },
  {
   "cell_type": "code",
   "execution_count": 6,
   "source": [
    "# Same as the above cell except for the test data\n",
    "best_name_cols_test = Kbest_name.transform(name_test_matrix)\n",
    "best_ingredients_cols_test = Kbest_ingr.transform(ingredients_test_matrix)\n",
    "best_steps_cols_test = Kbest_steps.transform(steps_test_matrix)\n",
    "\n",
    "best_name_test_df = pd.DataFrame(best_name_cols_test.toarray())\n",
    "best_ingredients_test_df = pd.DataFrame(best_ingredients_cols_test.toarray())\n",
    "best_steps_test_df = pd.DataFrame(best_steps_cols_test.toarray())\n",
    "\n",
    "\n",
    "X_test2 = pd.concat([X_test1,best_name_test_df, best_ingredients_test_df, best_steps_test_df], axis = 1, ignore_index = True)\n"
   ],
   "outputs": [],
   "metadata": {}
  },
  {
   "cell_type": "code",
   "execution_count": 7,
   "source": [
    "#Merging all the Doc2Vec features and performing PCA\n",
    "train_doc2vec100 = pd.concat([d2v_name_df, d2v_ingredients_df, d2v_steps_df], axis = 1, ignore_index = True)\n",
    "test_doc2vec100 = pd.concat([test_d2v_name_df, test_d2v_ingredients_df, test_d2v_steps_df], axis = 1, ignore_index = True)\n",
    "\n",
    "pca = PCA(n_components = 175)\n",
    "train_pca_doc2vec = pd.DataFrame(pca.fit_transform(train_doc2vec100))\n",
    "test_pca_doc2vec = pd.DataFrame(pca.transform(test_doc2vec100))\n",
    "\n",
    "X_train3 = pd.concat([X_train2, train_pca_doc2vec], axis = 1, ignore_index = True)\n",
    "X_test3 = pd.concat([X_test2, test_pca_doc2vec], axis = 1, ignore_index = True)\n",
    "\n",
    "\n",
    "#var = np.cumsum(np.round(pca.explained_variance_ratio_, decimals=3)*100)\n",
    "#var"
   ],
   "outputs": [],
   "metadata": {}
  },
  {
   "cell_type": "code",
   "execution_count": 8,
   "source": [
    "# Running the different types of models and creating a file to store them\n",
    "# The commented out code is for making the files for Kaggle\n",
    "random_forest = RandomForestClassifier()\n",
    "random_forest = random_forest.fit(X_train3, y_train)\n",
    "rf_pred = random_forest.predict(X_test3)\n",
    "\n",
    "Dtree_classifier = DecisionTreeClassifier()\n",
    "Dtree_classifier = Dtree_classifier.fit(X_train3, y_train)\n",
    "predictions = Dtree_classifier.predict(X_test3)\n",
    "\n",
    "gaussNB = GaussianNB()\n",
    "gaussNB = gaussNB.fit(X_train3, y_train)\n",
    "gauss_pred = gaussNB.predict(X_test3)"
   ],
   "outputs": [],
   "metadata": {}
  },
  {
   "cell_type": "code",
   "execution_count": null,
   "source": [],
   "outputs": [],
   "metadata": {}
  }
 ],
 "metadata": {
  "kernelspec": {
   "name": "python3",
   "display_name": "Python 3.8.5 64-bit ('base': conda)"
  },
  "language_info": {
   "codemirror_mode": {
    "name": "ipython",
    "version": 3
   },
   "file_extension": ".py",
   "mimetype": "text/x-python",
   "name": "python",
   "nbconvert_exporter": "python",
   "pygments_lexer": "ipython3",
   "version": "3.8.5"
  },
  "interpreter": {
   "hash": "2b45b06cb7333147610e0331788208d004a811cc6d9ece3a1f54a3aba9cde1d0"
  }
 },
 "nbformat": 4,
 "nbformat_minor": 4
}